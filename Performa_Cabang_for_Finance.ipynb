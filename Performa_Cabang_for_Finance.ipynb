{
  "nbformat": 4,
  "nbformat_minor": 0,
  "metadata": {
    "colab": {
      "name": "Untitled1.ipynb",
      "provenance": [],
      "authorship_tag": "ABX9TyOzV2g2z2jTDXiIoZCcutGb",
      "include_colab_link": true
    },
    "kernelspec": {
      "name": "ir",
      "display_name": "R"
    },
    "language_info": {
      "name": "R"
    }
  },
  "cells": [
    {
      "cell_type": "markdown",
      "metadata": {
        "id": "view-in-github",
        "colab_type": "text"
      },
      "source": [
        "<a href=\"https://colab.research.google.com/github/zakiyyah-ai/Performa_Cabang_for_Finance/blob/main/Performa_Cabang_for_Finance.ipynb\" target=\"_parent\"><img src=\"https://colab.research.google.com/assets/colab-badge.svg\" alt=\"Open In Colab\"/></a>"
      ]
    },
    {
      "cell_type": "code",
      "metadata": {
        "id": "fVrZ2MQff3Mt"
      },
      "source": [
        "install.packages(\"dplyr\", lib=\"/usr/local/lib/R/site-library\")"
      ],
      "execution_count": 13,
      "outputs": []
    },
    {
      "cell_type": "code",
      "metadata": {
        "id": "l5a6rqRPrqGg"
      },
      "source": [
        "install.packages(\"ggplot2\", lib=\"/usr/local/lib/R/site-library\")"
      ],
      "execution_count": 12,
      "outputs": []
    },
    {
      "cell_type": "code",
      "metadata": {
        "id": "4FnNh7s8pIji"
      },
      "source": [
        "install.packages(\"scales\", lib=\"/usr/local/lib/R/site-library\")"
      ],
      "execution_count": 14,
      "outputs": []
    },
    {
      "cell_type": "code",
      "metadata": {
        "colab": {
          "base_uri": "https://localhost:8080/"
        },
        "id": "75sZ2D2TdKyO",
        "outputId": "00f7fd14-2341-4c65-fe82-60970c5e25e6"
      },
      "source": [
        "df_loan <- read.csv(\"https://storage.googleapis.com/dqlab-dataset/loan_disbursement.csv\", stringsAsFactors = F)\n",
        "dplyr::glimpse(df_loan)"
      ],
      "execution_count": 15,
      "outputs": [
        {
          "output_type": "stream",
          "text": [
            "Rows: 9,754\n",
            "Columns: 5\n",
            "$ loan_id      \u001b[3m\u001b[90m<int>\u001b[39m\u001b[23m 1, 2, 3, 4, 5, 6, 7, 8, 9, 10, 11, 12, 13, 14, 15, 16, 17…\n",
            "$ tanggal_cair \u001b[3m\u001b[90m<chr>\u001b[39m\u001b[23m \"2020-01-06\", \"2020-01-06\", \"2020-01-06\", \"2020-01-06\", \"…\n",
            "$ cabang       \u001b[3m\u001b[90m<chr>\u001b[39m\u001b[23m \"AA\", \"AA\", \"AA\", \"AA\", \"AA\", \"AA\", \"AB\", \"AB\", \"AB\", \"AB…\n",
            "$ agen         \u001b[3m\u001b[90m<chr>\u001b[39m\u001b[23m \"AA-1\", \"AA-1\", \"AA-1\", \"AA-2\", \"AA-2\", \"AA-2\", \"AB-1\", \"…\n",
            "$ amount       \u001b[3m\u001b[90m<int>\u001b[39m\u001b[23m 320000, 440000, 200000, 430000, 360000, 220000, 320000, 4…\n"
          ],
          "name": "stdout"
        }
      ]
    },
    {
      "cell_type": "code",
      "metadata": {
        "colab": {
          "base_uri": "https://localhost:8080/",
          "height": 788
        },
        "id": "pEdR_PojdawY",
        "outputId": "2c6a759d-74e2-4576-91f9-5f0260d0f09f"
      },
      "source": [
        "library(dplyr)\n",
        "df_loan_mei <- df_loan %>% \n",
        "  filter(tanggal_cair >= '2020-05-01', tanggal_cair <= '2020-05-31') %>% \n",
        "  group_by (cabang) %>% \n",
        "  summarise(total_amount = sum(amount))\n",
        "df_loan_mei"
      ],
      "execution_count": 16,
      "outputs": [
        {
          "output_type": "display_data",
          "data": {
            "text/plain": [
              "   cabang total_amount\n",
              "1  AA     75710000    \n",
              "2  AB     81440000    \n",
              "3  AC     83990000    \n",
              "4  AD     76080000    \n",
              "5  AE     54200000    \n",
              "6  AF     68040000    \n",
              "7  AG     74080000    \n",
              "8  AH     73840000    \n",
              "9  AI     46640000    \n",
              "10 AJ     43580000    \n",
              "11 AK     44590000    \n",
              "12 AL     40650000    \n",
              "13 AM     44010000    \n",
              "14 AN     39700000    \n",
              "15 AO     39120000    \n",
              "16 AP     44740000    \n",
              "17 AQ     39190000    \n",
              "18 AR     44230000    \n",
              "19 AS     31740000    \n",
              "20 AT     34840000    \n",
              "21 AU     35610000    \n",
              "22 AV     30280000    "
            ],
            "text/latex": "A tibble: 22 × 2\n\\begin{tabular}{ll}\n cabang & total\\_amount\\\\\n <chr> & <int>\\\\\n\\hline\n\t AA & 75710000\\\\\n\t AB & 81440000\\\\\n\t AC & 83990000\\\\\n\t AD & 76080000\\\\\n\t AE & 54200000\\\\\n\t AF & 68040000\\\\\n\t AG & 74080000\\\\\n\t AH & 73840000\\\\\n\t AI & 46640000\\\\\n\t AJ & 43580000\\\\\n\t AK & 44590000\\\\\n\t AL & 40650000\\\\\n\t AM & 44010000\\\\\n\t AN & 39700000\\\\\n\t AO & 39120000\\\\\n\t AP & 44740000\\\\\n\t AQ & 39190000\\\\\n\t AR & 44230000\\\\\n\t AS & 31740000\\\\\n\t AT & 34840000\\\\\n\t AU & 35610000\\\\\n\t AV & 30280000\\\\\n\\end{tabular}\n",
            "text/markdown": "\nA tibble: 22 × 2\n\n| cabang &lt;chr&gt; | total_amount &lt;int&gt; |\n|---|---|\n| AA | 75710000 |\n| AB | 81440000 |\n| AC | 83990000 |\n| AD | 76080000 |\n| AE | 54200000 |\n| AF | 68040000 |\n| AG | 74080000 |\n| AH | 73840000 |\n| AI | 46640000 |\n| AJ | 43580000 |\n| AK | 44590000 |\n| AL | 40650000 |\n| AM | 44010000 |\n| AN | 39700000 |\n| AO | 39120000 |\n| AP | 44740000 |\n| AQ | 39190000 |\n| AR | 44230000 |\n| AS | 31740000 |\n| AT | 34840000 |\n| AU | 35610000 |\n| AV | 30280000 |\n\n",
            "text/html": [
              "<table class=\"dataframe\">\n",
              "<caption>A tibble: 22 × 2</caption>\n",
              "<thead>\n",
              "\t<tr><th scope=col>cabang</th><th scope=col>total_amount</th></tr>\n",
              "\t<tr><th scope=col>&lt;chr&gt;</th><th scope=col>&lt;int&gt;</th></tr>\n",
              "</thead>\n",
              "<tbody>\n",
              "\t<tr><td>AA</td><td>75710000</td></tr>\n",
              "\t<tr><td>AB</td><td>81440000</td></tr>\n",
              "\t<tr><td>AC</td><td>83990000</td></tr>\n",
              "\t<tr><td>AD</td><td>76080000</td></tr>\n",
              "\t<tr><td>AE</td><td>54200000</td></tr>\n",
              "\t<tr><td>AF</td><td>68040000</td></tr>\n",
              "\t<tr><td>AG</td><td>74080000</td></tr>\n",
              "\t<tr><td>AH</td><td>73840000</td></tr>\n",
              "\t<tr><td>AI</td><td>46640000</td></tr>\n",
              "\t<tr><td>AJ</td><td>43580000</td></tr>\n",
              "\t<tr><td>AK</td><td>44590000</td></tr>\n",
              "\t<tr><td>AL</td><td>40650000</td></tr>\n",
              "\t<tr><td>AM</td><td>44010000</td></tr>\n",
              "\t<tr><td>AN</td><td>39700000</td></tr>\n",
              "\t<tr><td>AO</td><td>39120000</td></tr>\n",
              "\t<tr><td>AP</td><td>44740000</td></tr>\n",
              "\t<tr><td>AQ</td><td>39190000</td></tr>\n",
              "\t<tr><td>AR</td><td>44230000</td></tr>\n",
              "\t<tr><td>AS</td><td>31740000</td></tr>\n",
              "\t<tr><td>AT</td><td>34840000</td></tr>\n",
              "\t<tr><td>AU</td><td>35610000</td></tr>\n",
              "\t<tr><td>AV</td><td>30280000</td></tr>\n",
              "</tbody>\n",
              "</table>\n"
            ]
          },
          "metadata": {
            "tags": []
          }
        }
      ]
    },
    {
      "cell_type": "code",
      "metadata": {
        "colab": {
          "base_uri": "https://localhost:8080/",
          "height": 255
        },
        "id": "xxw1wu-sgkOi",
        "outputId": "1cf37b46-eea6-4c99-dc33-dc2222cdbd47"
      },
      "source": [
        "library(dplyr)\n",
        "library(scales)\n",
        "df_loan_mei %>% \n",
        "  arrange(desc(total_amount)) %>% \n",
        "  mutate(total_amount = comma(total_amount)) %>% \n",
        "  head(5)"
      ],
      "execution_count": 17,
      "outputs": [
        {
          "output_type": "display_data",
          "data": {
            "text/plain": [
              "  cabang total_amount\n",
              "1 AC     83,990,000  \n",
              "2 AB     81,440,000  \n",
              "3 AD     76,080,000  \n",
              "4 AA     75,710,000  \n",
              "5 AG     74,080,000  "
            ],
            "text/latex": "A tibble: 5 × 2\n\\begin{tabular}{ll}\n cabang & total\\_amount\\\\\n <chr> & <chr>\\\\\n\\hline\n\t AC & 83,990,000\\\\\n\t AB & 81,440,000\\\\\n\t AD & 76,080,000\\\\\n\t AA & 75,710,000\\\\\n\t AG & 74,080,000\\\\\n\\end{tabular}\n",
            "text/markdown": "\nA tibble: 5 × 2\n\n| cabang &lt;chr&gt; | total_amount &lt;chr&gt; |\n|---|---|\n| AC | 83,990,000 |\n| AB | 81,440,000 |\n| AD | 76,080,000 |\n| AA | 75,710,000 |\n| AG | 74,080,000 |\n\n",
            "text/html": [
              "<table class=\"dataframe\">\n",
              "<caption>A tibble: 5 × 2</caption>\n",
              "<thead>\n",
              "\t<tr><th scope=col>cabang</th><th scope=col>total_amount</th></tr>\n",
              "\t<tr><th scope=col>&lt;chr&gt;</th><th scope=col>&lt;chr&gt;</th></tr>\n",
              "</thead>\n",
              "<tbody>\n",
              "\t<tr><td>AC</td><td>83,990,000</td></tr>\n",
              "\t<tr><td>AB</td><td>81,440,000</td></tr>\n",
              "\t<tr><td>AD</td><td>76,080,000</td></tr>\n",
              "\t<tr><td>AA</td><td>75,710,000</td></tr>\n",
              "\t<tr><td>AG</td><td>74,080,000</td></tr>\n",
              "</tbody>\n",
              "</table>\n"
            ]
          },
          "metadata": {
            "tags": []
          }
        }
      ]
    },
    {
      "cell_type": "code",
      "metadata": {
        "colab": {
          "base_uri": "https://localhost:8080/",
          "height": 255
        },
        "id": "HTqsmOV6p3qt",
        "outputId": "846ec794-9d47-4cbe-a7b0-bdaac90b8089"
      },
      "source": [
        "library(dplyr)\n",
        "library(scales)\n",
        "df_loan_mei %>% \n",
        "  arrange(total_amount) %>% \n",
        "  mutate(total_amount = comma(total_amount)) %>% \n",
        "  head(5)"
      ],
      "execution_count": 18,
      "outputs": [
        {
          "output_type": "display_data",
          "data": {
            "text/plain": [
              "  cabang total_amount\n",
              "1 AV     30,280,000  \n",
              "2 AS     31,740,000  \n",
              "3 AT     34,840,000  \n",
              "4 AU     35,610,000  \n",
              "5 AO     39,120,000  "
            ],
            "text/latex": "A tibble: 5 × 2\n\\begin{tabular}{ll}\n cabang & total\\_amount\\\\\n <chr> & <chr>\\\\\n\\hline\n\t AV & 30,280,000\\\\\n\t AS & 31,740,000\\\\\n\t AT & 34,840,000\\\\\n\t AU & 35,610,000\\\\\n\t AO & 39,120,000\\\\\n\\end{tabular}\n",
            "text/markdown": "\nA tibble: 5 × 2\n\n| cabang &lt;chr&gt; | total_amount &lt;chr&gt; |\n|---|---|\n| AV | 30,280,000 |\n| AS | 31,740,000 |\n| AT | 34,840,000 |\n| AU | 35,610,000 |\n| AO | 39,120,000 |\n\n",
            "text/html": [
              "<table class=\"dataframe\">\n",
              "<caption>A tibble: 5 × 2</caption>\n",
              "<thead>\n",
              "\t<tr><th scope=col>cabang</th><th scope=col>total_amount</th></tr>\n",
              "\t<tr><th scope=col>&lt;chr&gt;</th><th scope=col>&lt;chr&gt;</th></tr>\n",
              "</thead>\n",
              "<tbody>\n",
              "\t<tr><td>AV</td><td>30,280,000</td></tr>\n",
              "\t<tr><td>AS</td><td>31,740,000</td></tr>\n",
              "\t<tr><td>AT</td><td>34,840,000</td></tr>\n",
              "\t<tr><td>AU</td><td>35,610,000</td></tr>\n",
              "\t<tr><td>AO</td><td>39,120,000</td></tr>\n",
              "</tbody>\n",
              "</table>\n"
            ]
          },
          "metadata": {
            "tags": []
          }
        }
      ]
    },
    {
      "cell_type": "code",
      "metadata": {
        "colab": {
          "base_uri": "https://localhost:8080/",
          "height": 788
        },
        "id": "wc0BDYymrLXv",
        "outputId": "c98441b2-6a83-4708-c084-4eb12b53d600"
      },
      "source": [
        "library(dplyr)\n",
        "df_cabang_umur <- df_loan %>%\n",
        "  group_by(cabang) %>% \n",
        "  summarise(pertama_cair = min(tanggal_cair)) %>% \n",
        "  mutate(umur = as.numeric(as.Date('2020-05-15') - as.Date(pertama_cair)) %/% 30) \n",
        "df_cabang_umur"
      ],
      "execution_count": 19,
      "outputs": [
        {
          "output_type": "display_data",
          "data": {
            "text/plain": [
              "   cabang pertama_cair umur\n",
              "1  AA     2020-01-06   4   \n",
              "2  AB     2020-01-06   4   \n",
              "3  AC     2020-01-06   4   \n",
              "4  AD     2020-01-06   4   \n",
              "5  AE     2020-02-03   3   \n",
              "6  AF     2020-02-03   3   \n",
              "7  AG     2020-02-03   3   \n",
              "8  AH     2020-02-03   3   \n",
              "9  AI     2020-03-02   2   \n",
              "10 AJ     2020-03-02   2   \n",
              "11 AK     2020-03-02   2   \n",
              "12 AL     2020-03-02   2   \n",
              "13 AM     2020-03-02   2   \n",
              "14 AN     2020-04-06   1   \n",
              "15 AO     2020-04-06   1   \n",
              "16 AP     2020-04-06   1   \n",
              "17 AQ     2020-04-06   1   \n",
              "18 AR     2020-04-06   1   \n",
              "19 AS     2020-05-04   0   \n",
              "20 AT     2020-05-04   0   \n",
              "21 AU     2020-05-04   0   \n",
              "22 AV     2020-05-04   0   "
            ],
            "text/latex": "A tibble: 22 × 3\n\\begin{tabular}{lll}\n cabang & pertama\\_cair & umur\\\\\n <chr> & <chr> & <dbl>\\\\\n\\hline\n\t AA & 2020-01-06 & 4\\\\\n\t AB & 2020-01-06 & 4\\\\\n\t AC & 2020-01-06 & 4\\\\\n\t AD & 2020-01-06 & 4\\\\\n\t AE & 2020-02-03 & 3\\\\\n\t AF & 2020-02-03 & 3\\\\\n\t AG & 2020-02-03 & 3\\\\\n\t AH & 2020-02-03 & 3\\\\\n\t AI & 2020-03-02 & 2\\\\\n\t AJ & 2020-03-02 & 2\\\\\n\t AK & 2020-03-02 & 2\\\\\n\t AL & 2020-03-02 & 2\\\\\n\t AM & 2020-03-02 & 2\\\\\n\t AN & 2020-04-06 & 1\\\\\n\t AO & 2020-04-06 & 1\\\\\n\t AP & 2020-04-06 & 1\\\\\n\t AQ & 2020-04-06 & 1\\\\\n\t AR & 2020-04-06 & 1\\\\\n\t AS & 2020-05-04 & 0\\\\\n\t AT & 2020-05-04 & 0\\\\\n\t AU & 2020-05-04 & 0\\\\\n\t AV & 2020-05-04 & 0\\\\\n\\end{tabular}\n",
            "text/markdown": "\nA tibble: 22 × 3\n\n| cabang &lt;chr&gt; | pertama_cair &lt;chr&gt; | umur &lt;dbl&gt; |\n|---|---|---|\n| AA | 2020-01-06 | 4 |\n| AB | 2020-01-06 | 4 |\n| AC | 2020-01-06 | 4 |\n| AD | 2020-01-06 | 4 |\n| AE | 2020-02-03 | 3 |\n| AF | 2020-02-03 | 3 |\n| AG | 2020-02-03 | 3 |\n| AH | 2020-02-03 | 3 |\n| AI | 2020-03-02 | 2 |\n| AJ | 2020-03-02 | 2 |\n| AK | 2020-03-02 | 2 |\n| AL | 2020-03-02 | 2 |\n| AM | 2020-03-02 | 2 |\n| AN | 2020-04-06 | 1 |\n| AO | 2020-04-06 | 1 |\n| AP | 2020-04-06 | 1 |\n| AQ | 2020-04-06 | 1 |\n| AR | 2020-04-06 | 1 |\n| AS | 2020-05-04 | 0 |\n| AT | 2020-05-04 | 0 |\n| AU | 2020-05-04 | 0 |\n| AV | 2020-05-04 | 0 |\n\n",
            "text/html": [
              "<table class=\"dataframe\">\n",
              "<caption>A tibble: 22 × 3</caption>\n",
              "<thead>\n",
              "\t<tr><th scope=col>cabang</th><th scope=col>pertama_cair</th><th scope=col>umur</th></tr>\n",
              "\t<tr><th scope=col>&lt;chr&gt;</th><th scope=col>&lt;chr&gt;</th><th scope=col>&lt;dbl&gt;</th></tr>\n",
              "</thead>\n",
              "<tbody>\n",
              "\t<tr><td>AA</td><td>2020-01-06</td><td>4</td></tr>\n",
              "\t<tr><td>AB</td><td>2020-01-06</td><td>4</td></tr>\n",
              "\t<tr><td>AC</td><td>2020-01-06</td><td>4</td></tr>\n",
              "\t<tr><td>AD</td><td>2020-01-06</td><td>4</td></tr>\n",
              "\t<tr><td>AE</td><td>2020-02-03</td><td>3</td></tr>\n",
              "\t<tr><td>AF</td><td>2020-02-03</td><td>3</td></tr>\n",
              "\t<tr><td>AG</td><td>2020-02-03</td><td>3</td></tr>\n",
              "\t<tr><td>AH</td><td>2020-02-03</td><td>3</td></tr>\n",
              "\t<tr><td>AI</td><td>2020-03-02</td><td>2</td></tr>\n",
              "\t<tr><td>AJ</td><td>2020-03-02</td><td>2</td></tr>\n",
              "\t<tr><td>AK</td><td>2020-03-02</td><td>2</td></tr>\n",
              "\t<tr><td>AL</td><td>2020-03-02</td><td>2</td></tr>\n",
              "\t<tr><td>AM</td><td>2020-03-02</td><td>2</td></tr>\n",
              "\t<tr><td>AN</td><td>2020-04-06</td><td>1</td></tr>\n",
              "\t<tr><td>AO</td><td>2020-04-06</td><td>1</td></tr>\n",
              "\t<tr><td>AP</td><td>2020-04-06</td><td>1</td></tr>\n",
              "\t<tr><td>AQ</td><td>2020-04-06</td><td>1</td></tr>\n",
              "\t<tr><td>AR</td><td>2020-04-06</td><td>1</td></tr>\n",
              "\t<tr><td>AS</td><td>2020-05-04</td><td>0</td></tr>\n",
              "\t<tr><td>AT</td><td>2020-05-04</td><td>0</td></tr>\n",
              "\t<tr><td>AU</td><td>2020-05-04</td><td>0</td></tr>\n",
              "\t<tr><td>AV</td><td>2020-05-04</td><td>0</td></tr>\n",
              "</tbody>\n",
              "</table>\n"
            ]
          },
          "metadata": {
            "tags": []
          }
        }
      ]
    },
    {
      "cell_type": "code",
      "metadata": {
        "colab": {
          "base_uri": "https://localhost:8080/",
          "height": 788
        },
        "id": "8Ga10xJVreIn",
        "outputId": "7ee395f6-0f99-4a0d-95aa-23dd44232a74"
      },
      "source": [
        "library(dplyr)\n",
        "df_loan_mei_umur <- df_cabang_umur %>%\n",
        "  inner_join(df_loan_mei, by = 'cabang')\n",
        "df_loan_mei_umur"
      ],
      "execution_count": 20,
      "outputs": [
        {
          "output_type": "display_data",
          "data": {
            "text/plain": [
              "   cabang pertama_cair umur total_amount\n",
              "1  AA     2020-01-06   4    75710000    \n",
              "2  AB     2020-01-06   4    81440000    \n",
              "3  AC     2020-01-06   4    83990000    \n",
              "4  AD     2020-01-06   4    76080000    \n",
              "5  AE     2020-02-03   3    54200000    \n",
              "6  AF     2020-02-03   3    68040000    \n",
              "7  AG     2020-02-03   3    74080000    \n",
              "8  AH     2020-02-03   3    73840000    \n",
              "9  AI     2020-03-02   2    46640000    \n",
              "10 AJ     2020-03-02   2    43580000    \n",
              "11 AK     2020-03-02   2    44590000    \n",
              "12 AL     2020-03-02   2    40650000    \n",
              "13 AM     2020-03-02   2    44010000    \n",
              "14 AN     2020-04-06   1    39700000    \n",
              "15 AO     2020-04-06   1    39120000    \n",
              "16 AP     2020-04-06   1    44740000    \n",
              "17 AQ     2020-04-06   1    39190000    \n",
              "18 AR     2020-04-06   1    44230000    \n",
              "19 AS     2020-05-04   0    31740000    \n",
              "20 AT     2020-05-04   0    34840000    \n",
              "21 AU     2020-05-04   0    35610000    \n",
              "22 AV     2020-05-04   0    30280000    "
            ],
            "text/latex": "A tibble: 22 × 4\n\\begin{tabular}{llll}\n cabang & pertama\\_cair & umur & total\\_amount\\\\\n <chr> & <chr> & <dbl> & <int>\\\\\n\\hline\n\t AA & 2020-01-06 & 4 & 75710000\\\\\n\t AB & 2020-01-06 & 4 & 81440000\\\\\n\t AC & 2020-01-06 & 4 & 83990000\\\\\n\t AD & 2020-01-06 & 4 & 76080000\\\\\n\t AE & 2020-02-03 & 3 & 54200000\\\\\n\t AF & 2020-02-03 & 3 & 68040000\\\\\n\t AG & 2020-02-03 & 3 & 74080000\\\\\n\t AH & 2020-02-03 & 3 & 73840000\\\\\n\t AI & 2020-03-02 & 2 & 46640000\\\\\n\t AJ & 2020-03-02 & 2 & 43580000\\\\\n\t AK & 2020-03-02 & 2 & 44590000\\\\\n\t AL & 2020-03-02 & 2 & 40650000\\\\\n\t AM & 2020-03-02 & 2 & 44010000\\\\\n\t AN & 2020-04-06 & 1 & 39700000\\\\\n\t AO & 2020-04-06 & 1 & 39120000\\\\\n\t AP & 2020-04-06 & 1 & 44740000\\\\\n\t AQ & 2020-04-06 & 1 & 39190000\\\\\n\t AR & 2020-04-06 & 1 & 44230000\\\\\n\t AS & 2020-05-04 & 0 & 31740000\\\\\n\t AT & 2020-05-04 & 0 & 34840000\\\\\n\t AU & 2020-05-04 & 0 & 35610000\\\\\n\t AV & 2020-05-04 & 0 & 30280000\\\\\n\\end{tabular}\n",
            "text/markdown": "\nA tibble: 22 × 4\n\n| cabang &lt;chr&gt; | pertama_cair &lt;chr&gt; | umur &lt;dbl&gt; | total_amount &lt;int&gt; |\n|---|---|---|---|\n| AA | 2020-01-06 | 4 | 75710000 |\n| AB | 2020-01-06 | 4 | 81440000 |\n| AC | 2020-01-06 | 4 | 83990000 |\n| AD | 2020-01-06 | 4 | 76080000 |\n| AE | 2020-02-03 | 3 | 54200000 |\n| AF | 2020-02-03 | 3 | 68040000 |\n| AG | 2020-02-03 | 3 | 74080000 |\n| AH | 2020-02-03 | 3 | 73840000 |\n| AI | 2020-03-02 | 2 | 46640000 |\n| AJ | 2020-03-02 | 2 | 43580000 |\n| AK | 2020-03-02 | 2 | 44590000 |\n| AL | 2020-03-02 | 2 | 40650000 |\n| AM | 2020-03-02 | 2 | 44010000 |\n| AN | 2020-04-06 | 1 | 39700000 |\n| AO | 2020-04-06 | 1 | 39120000 |\n| AP | 2020-04-06 | 1 | 44740000 |\n| AQ | 2020-04-06 | 1 | 39190000 |\n| AR | 2020-04-06 | 1 | 44230000 |\n| AS | 2020-05-04 | 0 | 31740000 |\n| AT | 2020-05-04 | 0 | 34840000 |\n| AU | 2020-05-04 | 0 | 35610000 |\n| AV | 2020-05-04 | 0 | 30280000 |\n\n",
            "text/html": [
              "<table class=\"dataframe\">\n",
              "<caption>A tibble: 22 × 4</caption>\n",
              "<thead>\n",
              "\t<tr><th scope=col>cabang</th><th scope=col>pertama_cair</th><th scope=col>umur</th><th scope=col>total_amount</th></tr>\n",
              "\t<tr><th scope=col>&lt;chr&gt;</th><th scope=col>&lt;chr&gt;</th><th scope=col>&lt;dbl&gt;</th><th scope=col>&lt;int&gt;</th></tr>\n",
              "</thead>\n",
              "<tbody>\n",
              "\t<tr><td>AA</td><td>2020-01-06</td><td>4</td><td>75710000</td></tr>\n",
              "\t<tr><td>AB</td><td>2020-01-06</td><td>4</td><td>81440000</td></tr>\n",
              "\t<tr><td>AC</td><td>2020-01-06</td><td>4</td><td>83990000</td></tr>\n",
              "\t<tr><td>AD</td><td>2020-01-06</td><td>4</td><td>76080000</td></tr>\n",
              "\t<tr><td>AE</td><td>2020-02-03</td><td>3</td><td>54200000</td></tr>\n",
              "\t<tr><td>AF</td><td>2020-02-03</td><td>3</td><td>68040000</td></tr>\n",
              "\t<tr><td>AG</td><td>2020-02-03</td><td>3</td><td>74080000</td></tr>\n",
              "\t<tr><td>AH</td><td>2020-02-03</td><td>3</td><td>73840000</td></tr>\n",
              "\t<tr><td>AI</td><td>2020-03-02</td><td>2</td><td>46640000</td></tr>\n",
              "\t<tr><td>AJ</td><td>2020-03-02</td><td>2</td><td>43580000</td></tr>\n",
              "\t<tr><td>AK</td><td>2020-03-02</td><td>2</td><td>44590000</td></tr>\n",
              "\t<tr><td>AL</td><td>2020-03-02</td><td>2</td><td>40650000</td></tr>\n",
              "\t<tr><td>AM</td><td>2020-03-02</td><td>2</td><td>44010000</td></tr>\n",
              "\t<tr><td>AN</td><td>2020-04-06</td><td>1</td><td>39700000</td></tr>\n",
              "\t<tr><td>AO</td><td>2020-04-06</td><td>1</td><td>39120000</td></tr>\n",
              "\t<tr><td>AP</td><td>2020-04-06</td><td>1</td><td>44740000</td></tr>\n",
              "\t<tr><td>AQ</td><td>2020-04-06</td><td>1</td><td>39190000</td></tr>\n",
              "\t<tr><td>AR</td><td>2020-04-06</td><td>1</td><td>44230000</td></tr>\n",
              "\t<tr><td>AS</td><td>2020-05-04</td><td>0</td><td>31740000</td></tr>\n",
              "\t<tr><td>AT</td><td>2020-05-04</td><td>0</td><td>34840000</td></tr>\n",
              "\t<tr><td>AU</td><td>2020-05-04</td><td>0</td><td>35610000</td></tr>\n",
              "\t<tr><td>AV</td><td>2020-05-04</td><td>0</td><td>30280000</td></tr>\n",
              "</tbody>\n",
              "</table>\n"
            ]
          },
          "metadata": {
            "tags": []
          }
        }
      ]
    },
    {
      "cell_type": "code",
      "metadata": {
        "colab": {
          "base_uri": "https://localhost:8080/",
          "height": 437
        },
        "id": "jM-wc7eosTEa",
        "outputId": "ffb5c462-d2a6-445b-d20d-b7921556e732"
      },
      "source": [
        "library(ggplot2)\n",
        "\n",
        "ggplot(df_loan_mei_umur, aes(x = umur, y = total_amount)) +\n",
        "  geom_point(color=\"blue\") +\n",
        "  scale_y_continuous(labels = scales::comma) +\n",
        "  labs(title = \"Semakin berumur, performa cabang akan semakin baik\",\n",
        "       x = \"Umur (bulan)\",\n",
        "       y = \"Total Amount\")"
      ],
      "execution_count": 28,
      "outputs": [
        {
          "output_type": "display_data",
          "data": {
            "image/png": "[encoded data removed]",
            "text/plain": [
              "plot without title"
            ]
          },
          "metadata": {
            "tags": [],
            "image/png": {
              "width": 420,
              "height": 420
            }
          }
        }
      ]
    },
    {
      "cell_type": "code",
      "metadata": {
        "colab": {
          "base_uri": "https://localhost:8080/",
          "height": 217
        },
        "id": "COjHhF69vkNL",
        "outputId": "2ae990ae-b389-4a4f-8d3d-799b36765686"
      },
      "source": [
        "library(dplyr)\n",
        "library(scales)\n",
        "df_loan_mei_flag <- df_loan_mei_umur %>% \n",
        "  group_by(umur) %>% \n",
        "  mutate(Q1 = quantile(total_amount, 0.25),\n",
        "\t   Q3 = quantile(total_amount, 0.75),\n",
        "\t  IQR = (Q3-Q1)) %>%\n",
        "  mutate(flag = ifelse(total_amount < (Q1 - IQR), 'rendah','baik'))\n",
        "\n",
        "df_loan_mei_flag %>% \n",
        "  filter(flag == 'rendah') %>% \n",
        "  mutate_if(is.numeric, funs(comma))"
      ],
      "execution_count": 31,
      "outputs": [
        {
          "output_type": "stream",
          "text": [
            "`mutate_if()` ignored the following grouping variables:\n",
            "Column `umur`\n",
            "\n"
          ],
          "name": "stderr"
        },
        {
          "output_type": "display_data",
          "data": {
            "text/plain": [
              "  cabang pertama_cair umur total_amount Q1         Q3         IQR       flag  \n",
              "1 AE     2020-02-03   3    54,200,000   64,580,000 73,900,000 9,320,000 rendah\n",
              "2 AL     2020-03-02   2    40,650,000   43,580,000 44,590,000 1,010,000 rendah"
            ],
            "text/latex": "A grouped\\_df: 2 × 8\n\\begin{tabular}{llllllll}\n cabang & pertama\\_cair & umur & total\\_amount & Q1 & Q3 & IQR & flag\\\\\n <chr> & <chr> & <dbl> & <chr> & <chr> & <chr> & <chr> & <chr>\\\\\n\\hline\n\t AE & 2020-02-03 & 3 & 54,200,000 & 64,580,000 & 73,900,000 & 9,320,000 & rendah\\\\\n\t AL & 2020-03-02 & 2 & 40,650,000 & 43,580,000 & 44,590,000 & 1,010,000 & rendah\\\\\n\\end{tabular}\n",
            "text/markdown": "\nA grouped_df: 2 × 8\n\n| cabang &lt;chr&gt; | pertama_cair &lt;chr&gt; | umur &lt;dbl&gt; | total_amount &lt;chr&gt; | Q1 &lt;chr&gt; | Q3 &lt;chr&gt; | IQR &lt;chr&gt; | flag &lt;chr&gt; |\n|---|---|---|---|---|---|---|---|\n| AE | 2020-02-03 | 3 | 54,200,000 | 64,580,000 | 73,900,000 | 9,320,000 | rendah |\n| AL | 2020-03-02 | 2 | 40,650,000 | 43,580,000 | 44,590,000 | 1,010,000 | rendah |\n\n",
            "text/html": [
              "<table class=\"dataframe\">\n",
              "<caption>A grouped_df: 2 × 8</caption>\n",
              "<thead>\n",
              "\t<tr><th scope=col>cabang</th><th scope=col>pertama_cair</th><th scope=col>umur</th><th scope=col>total_amount</th><th scope=col>Q1</th><th scope=col>Q3</th><th scope=col>IQR</th><th scope=col>flag</th></tr>\n",
              "\t<tr><th scope=col>&lt;chr&gt;</th><th scope=col>&lt;chr&gt;</th><th scope=col>&lt;dbl&gt;</th><th scope=col>&lt;chr&gt;</th><th scope=col>&lt;chr&gt;</th><th scope=col>&lt;chr&gt;</th><th scope=col>&lt;chr&gt;</th><th scope=col>&lt;chr&gt;</th></tr>\n",
              "</thead>\n",
              "<tbody>\n",
              "\t<tr><td>AE</td><td>2020-02-03</td><td>3</td><td>54,200,000</td><td>64,580,000</td><td>73,900,000</td><td>9,320,000</td><td>rendah</td></tr>\n",
              "\t<tr><td>AL</td><td>2020-03-02</td><td>2</td><td>40,650,000</td><td>43,580,000</td><td>44,590,000</td><td>1,010,000</td><td>rendah</td></tr>\n",
              "</tbody>\n",
              "</table>\n"
            ]
          },
          "metadata": {
            "tags": []
          }
        }
      ]
    },
    {
      "cell_type": "code",
      "metadata": {
        "colab": {
          "base_uri": "https://localhost:8080/",
          "height": 437
        },
        "id": "59a6n9qpwgGI",
        "outputId": "134cf856-7415-4d0d-dd31-9935f4cf42ba"
      },
      "source": [
        "library(ggplot2)\n",
        "\n",
        "ggplot(df_loan_mei_flag, aes(x = umur, y = total_amount)) +\n",
        "  geom_point(aes(color = flag)) +\n",
        "  scale_color_manual(breaks = c(\"baik\", \"rendah\"),\n",
        "                        values=c(\"blue\", \"red\")) +\n",
        "  scale_y_continuous(labels = scales::comma) +\n",
        "  labs(title = \"Ada cabang berpeforma rendah padahal tidak termasuk bottom 5 nasional\",\n",
        "       color = \"\",\n",
        "       x = \"Umur (bulan)\",\n",
        "       y = \"Total Amount\")"
      ],
      "execution_count": 32,
      "outputs": [
        {
          "output_type": "display_data",
          "data": {
            "image/png": "[encoded data removed]",
            "text/plain": [
              "plot without title"
            ]
          },
          "metadata": {
            "tags": [],
            "image/png": {
              "width": 420,
              "height": 420
            }
          }
        }
      ]
    },
    {
      "cell_type": "code",
      "metadata": {
        "colab": {
          "base_uri": "https://localhost:8080/",
          "height": 317
        },
        "id": "rK1yTjPux2UE",
        "outputId": "33734883-c072-4397-96ca-f0ae8684635a"
      },
      "source": [
        "library(dplyr)\n",
        "library(scales)\n",
        "df_loan_mei_flag %>% \n",
        "  filter(umur == 3) %>% \n",
        "  inner_join(df_loan, by = 'cabang') %>% \n",
        "  filter(tanggal_cair >= '2020-05-01', tanggal_cair <= '2020-05-31') %>% \n",
        "  group_by(cabang, flag)  %>% \n",
        "  summarise(jumlah_hari = n_distinct(tanggal_cair),\n",
        "            agen_aktif = n_distinct(agen),\n",
        "            total_loan_cair = n_distinct(loan_id),\n",
        "            avg_amount = mean(amount), \n",
        "            total_amount = sum(amount)) %>% \n",
        "  arrange(total_amount) %>% \n",
        "  mutate_if(is.numeric, funs(comma))"
      ],
      "execution_count": 33,
      "outputs": [
        {
          "output_type": "stream",
          "text": [
            "`summarise()` has grouped output by 'cabang'. You can override using the `.groups` argument.\n",
            "\n",
            "`mutate_if()` ignored the following grouping variables:\n",
            "Column `cabang`\n",
            "\n"
          ],
          "name": "stderr"
        },
        {
          "output_type": "display_data",
          "data": {
            "text/plain": [
              "  cabang flag   jumlah_hari agen_aktif total_loan_cair avg_amount total_amount\n",
              "1 AE     rendah 21          3          175             309,714    54,200,000  \n",
              "2 AF     baik   21          3          225             302,400    68,040,000  \n",
              "3 AH     baik   21          3          241             306,390    73,840,000  \n",
              "4 AG     baik   21          3          241             307,386    74,080,000  "
            ],
            "text/latex": "A grouped\\_df: 4 × 7\n\\begin{tabular}{lllllll}\n cabang & flag & jumlah\\_hari & agen\\_aktif & total\\_loan\\_cair & avg\\_amount & total\\_amount\\\\\n <chr> & <chr> & <chr> & <chr> & <chr> & <chr> & <chr>\\\\\n\\hline\n\t AE & rendah & 21 & 3 & 175 & 309,714 & 54,200,000\\\\\n\t AF & baik   & 21 & 3 & 225 & 302,400 & 68,040,000\\\\\n\t AH & baik   & 21 & 3 & 241 & 306,390 & 73,840,000\\\\\n\t AG & baik   & 21 & 3 & 241 & 307,386 & 74,080,000\\\\\n\\end{tabular}\n",
            "text/markdown": "\nA grouped_df: 4 × 7\n\n| cabang &lt;chr&gt; | flag &lt;chr&gt; | jumlah_hari &lt;chr&gt; | agen_aktif &lt;chr&gt; | total_loan_cair &lt;chr&gt; | avg_amount &lt;chr&gt; | total_amount &lt;chr&gt; |\n|---|---|---|---|---|---|---|\n| AE | rendah | 21 | 3 | 175 | 309,714 | 54,200,000 |\n| AF | baik   | 21 | 3 | 225 | 302,400 | 68,040,000 |\n| AH | baik   | 21 | 3 | 241 | 306,390 | 73,840,000 |\n| AG | baik   | 21 | 3 | 241 | 307,386 | 74,080,000 |\n\n",
            "text/html": [
              "<table class=\"dataframe\">\n",
              "<caption>A grouped_df: 4 × 7</caption>\n",
              "<thead>\n",
              "\t<tr><th scope=col>cabang</th><th scope=col>flag</th><th scope=col>jumlah_hari</th><th scope=col>agen_aktif</th><th scope=col>total_loan_cair</th><th scope=col>avg_amount</th><th scope=col>total_amount</th></tr>\n",
              "\t<tr><th scope=col>&lt;chr&gt;</th><th scope=col>&lt;chr&gt;</th><th scope=col>&lt;chr&gt;</th><th scope=col>&lt;chr&gt;</th><th scope=col>&lt;chr&gt;</th><th scope=col>&lt;chr&gt;</th><th scope=col>&lt;chr&gt;</th></tr>\n",
              "</thead>\n",
              "<tbody>\n",
              "\t<tr><td>AE</td><td>rendah</td><td>21</td><td>3</td><td>175</td><td>309,714</td><td>54,200,000</td></tr>\n",
              "\t<tr><td>AF</td><td>baik  </td><td>21</td><td>3</td><td>225</td><td>302,400</td><td>68,040,000</td></tr>\n",
              "\t<tr><td>AH</td><td>baik  </td><td>21</td><td>3</td><td>241</td><td>306,390</td><td>73,840,000</td></tr>\n",
              "\t<tr><td>AG</td><td>baik  </td><td>21</td><td>3</td><td>241</td><td>307,386</td><td>74,080,000</td></tr>\n",
              "</tbody>\n",
              "</table>\n"
            ]
          },
          "metadata": {
            "tags": []
          }
        }
      ]
    },
    {
      "cell_type": "code",
      "metadata": {
        "colab": {
          "base_uri": "https://localhost:8080/",
          "height": 286
        },
        "id": "ojM8NMRbyWUI",
        "outputId": "cb7b433c-ebe6-4f69-bee5-51db440d4bf4"
      },
      "source": [
        "library(dplyr)\n",
        "library(scales)\n",
        "df_loan_mei_flag %>% \n",
        "  filter(umur == 3, flag == 'rendah') %>% \n",
        "  inner_join(df_loan, by = 'cabang') %>% \n",
        "  filter(tanggal_cair >= '2020-05-01', tanggal_cair <= '2020-05-31') %>% \n",
        "  group_by(cabang, agen) %>% \n",
        "  summarise(jumlah_hari = n_distinct(tanggal_cair),\n",
        "            total_loan_cair = n_distinct(loan_id),\n",
        "            avg_amount = mean(amount), \n",
        "            total_amount = sum(amount)) %>% \n",
        "  arrange(total_amount) %>% \n",
        "  mutate_if(is.numeric, funs(comma))"
      ],
      "execution_count": 34,
      "outputs": [
        {
          "output_type": "stream",
          "text": [
            "`summarise()` has grouped output by 'cabang'. You can override using the `.groups` argument.\n",
            "\n",
            "`mutate_if()` ignored the following grouping variables:\n",
            "Column `cabang`\n",
            "\n"
          ],
          "name": "stderr"
        },
        {
          "output_type": "display_data",
          "data": {
            "text/plain": [
              "  cabang agen jumlah_hari total_loan_cair avg_amount total_amount\n",
              "1 AE     AE-3 4.0         16              310,625    4,970,000   \n",
              "2 AE     AE-2 18.0        73              320,274    23,380,000  \n",
              "3 AE     AE-1 21.0        86              300,581    25,850,000  "
            ],
            "text/latex": "A grouped\\_df: 3 × 6\n\\begin{tabular}{llllll}\n cabang & agen & jumlah\\_hari & total\\_loan\\_cair & avg\\_amount & total\\_amount\\\\\n <chr> & <chr> & <chr> & <chr> & <chr> & <chr>\\\\\n\\hline\n\t AE & AE-3 & 4.0  & 16 & 310,625 & 4,970,000 \\\\\n\t AE & AE-2 & 18.0 & 73 & 320,274 & 23,380,000\\\\\n\t AE & AE-1 & 21.0 & 86 & 300,581 & 25,850,000\\\\\n\\end{tabular}\n",
            "text/markdown": "\nA grouped_df: 3 × 6\n\n| cabang &lt;chr&gt; | agen &lt;chr&gt; | jumlah_hari &lt;chr&gt; | total_loan_cair &lt;chr&gt; | avg_amount &lt;chr&gt; | total_amount &lt;chr&gt; |\n|---|---|---|---|---|---|\n| AE | AE-3 | 4.0  | 16 | 310,625 | 4,970,000  |\n| AE | AE-2 | 18.0 | 73 | 320,274 | 23,380,000 |\n| AE | AE-1 | 21.0 | 86 | 300,581 | 25,850,000 |\n\n",
            "text/html": [
              "<table class=\"dataframe\">\n",
              "<caption>A grouped_df: 3 × 6</caption>\n",
              "<thead>\n",
              "\t<tr><th scope=col>cabang</th><th scope=col>agen</th><th scope=col>jumlah_hari</th><th scope=col>total_loan_cair</th><th scope=col>avg_amount</th><th scope=col>total_amount</th></tr>\n",
              "\t<tr><th scope=col>&lt;chr&gt;</th><th scope=col>&lt;chr&gt;</th><th scope=col>&lt;chr&gt;</th><th scope=col>&lt;chr&gt;</th><th scope=col>&lt;chr&gt;</th><th scope=col>&lt;chr&gt;</th></tr>\n",
              "</thead>\n",
              "<tbody>\n",
              "\t<tr><td>AE</td><td>AE-3</td><td>4.0 </td><td>16</td><td>310,625</td><td>4,970,000 </td></tr>\n",
              "\t<tr><td>AE</td><td>AE-2</td><td>18.0</td><td>73</td><td>320,274</td><td>23,380,000</td></tr>\n",
              "\t<tr><td>AE</td><td>AE-1</td><td>21.0</td><td>86</td><td>300,581</td><td>25,850,000</td></tr>\n",
              "</tbody>\n",
              "</table>\n"
            ]
          },
          "metadata": {
            "tags": []
          }
        }
      ]
    },
    {
      "cell_type": "code",
      "metadata": {
        "colab": {
          "base_uri": "https://localhost:8080/",
          "height": 286
        },
        "id": "DxVkvMvayy1E",
        "outputId": "18ef9456-65d8-4b84-b254-f46a09743be3"
      },
      "source": [
        "library(dplyr)\n",
        "library(scales)\n",
        "df_loan %>% \n",
        "  filter(cabang == 'AH') %>% \n",
        "  filter(tanggal_cair >= '2020-05-01', tanggal_cair <= '2020-05-31') %>% \n",
        "  group_by(cabang, agen) %>% \n",
        "  summarise(jumlah_hari = n_distinct(tanggal_cair),\n",
        "            total_loan_cair = n_distinct(loan_id),\n",
        "            avg_amount = mean(amount), \n",
        "            total_amount = sum(amount)) %>% \n",
        "  arrange(total_amount) %>% \n",
        "  mutate_if(is.numeric, funs(comma))"
      ],
      "execution_count": 35,
      "outputs": [
        {
          "output_type": "stream",
          "text": [
            "`summarise()` has grouped output by 'cabang'. You can override using the `.groups` argument.\n",
            "\n",
            "`mutate_if()` ignored the following grouping variables:\n",
            "Column `cabang`\n",
            "\n"
          ],
          "name": "stderr"
        },
        {
          "output_type": "display_data",
          "data": {
            "text/plain": [
              "  cabang agen jumlah_hari total_loan_cair avg_amount total_amount\n",
              "1 AH     AH-3 19.0        74.0            303,649    22,470,000  \n",
              "2 AH     AH-1 21.0        81.0            301,358    24,410,000  \n",
              "3 AH     AH-2 21.0        86.0            313,488    26,960,000  "
            ],
            "text/latex": "A grouped\\_df: 3 × 6\n\\begin{tabular}{llllll}\n cabang & agen & jumlah\\_hari & total\\_loan\\_cair & avg\\_amount & total\\_amount\\\\\n <chr> & <chr> & <chr> & <chr> & <chr> & <chr>\\\\\n\\hline\n\t AH & AH-3 & 19.0 & 74.0 & 303,649 & 22,470,000\\\\\n\t AH & AH-1 & 21.0 & 81.0 & 301,358 & 24,410,000\\\\\n\t AH & AH-2 & 21.0 & 86.0 & 313,488 & 26,960,000\\\\\n\\end{tabular}\n",
            "text/markdown": "\nA grouped_df: 3 × 6\n\n| cabang &lt;chr&gt; | agen &lt;chr&gt; | jumlah_hari &lt;chr&gt; | total_loan_cair &lt;chr&gt; | avg_amount &lt;chr&gt; | total_amount &lt;chr&gt; |\n|---|---|---|---|---|---|\n| AH | AH-3 | 19.0 | 74.0 | 303,649 | 22,470,000 |\n| AH | AH-1 | 21.0 | 81.0 | 301,358 | 24,410,000 |\n| AH | AH-2 | 21.0 | 86.0 | 313,488 | 26,960,000 |\n\n",
            "text/html": [
              "<table class=\"dataframe\">\n",
              "<caption>A grouped_df: 3 × 6</caption>\n",
              "<thead>\n",
              "\t<tr><th scope=col>cabang</th><th scope=col>agen</th><th scope=col>jumlah_hari</th><th scope=col>total_loan_cair</th><th scope=col>avg_amount</th><th scope=col>total_amount</th></tr>\n",
              "\t<tr><th scope=col>&lt;chr&gt;</th><th scope=col>&lt;chr&gt;</th><th scope=col>&lt;chr&gt;</th><th scope=col>&lt;chr&gt;</th><th scope=col>&lt;chr&gt;</th><th scope=col>&lt;chr&gt;</th></tr>\n",
              "</thead>\n",
              "<tbody>\n",
              "\t<tr><td>AH</td><td>AH-3</td><td>19.0</td><td>74.0</td><td>303,649</td><td>22,470,000</td></tr>\n",
              "\t<tr><td>AH</td><td>AH-1</td><td>21.0</td><td>81.0</td><td>301,358</td><td>24,410,000</td></tr>\n",
              "\t<tr><td>AH</td><td>AH-2</td><td>21.0</td><td>86.0</td><td>313,488</td><td>26,960,000</td></tr>\n",
              "</tbody>\n",
              "</table>\n"
            ]
          },
          "metadata": {
            "tags": []
          }
        }
      ]
    }
  ]
}